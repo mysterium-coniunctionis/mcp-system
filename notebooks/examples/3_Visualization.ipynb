{
 "cells": [
  {
   "cell_type": "markdown",
   "metadata": {},
   "source": [
    "# Data Visualization Examples\n",
    "This notebook demonstrates the visualization capabilities of MCP System."
   ]
  },
  {
   "cell_type": "code",
   "metadata": {},
   "source": [
    "from mcp_demo.visualization import MetricsVisualizer\n",
    "viz = MetricsVisualizer()\n",
    "viz.plot_metrics(metrics)"
   ]
  }
 ]
}