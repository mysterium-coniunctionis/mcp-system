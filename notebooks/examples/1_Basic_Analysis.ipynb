{
 "cells": [
  {
   "cell_type": "markdown",
   "metadata": {},
   "source": [
    "# Basic System Analysis with MCP\n",
    "This notebook demonstrates basic usage of MCP System for monitoring and analysis."
   ]
  },
  {
   "cell_type": "code",
   "metadata": {},
   "source": [
    "from mcp_demo.analysis import MetricsAnalyzer\n",
    "analyzer = MetricsAnalyzer()\n",
    "metrics = analyzer.collect_metrics(duration='1h')"
   ]
  }
 ]
}